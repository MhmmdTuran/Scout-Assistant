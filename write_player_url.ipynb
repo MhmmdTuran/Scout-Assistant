{
 "cells": [
  {
   "cell_type": "code",
   "execution_count": 1,
   "metadata": {},
   "outputs": [],
   "source": [
    "from selenium import webdriver\n",
    "from selenium.webdriver.common.by import By\n",
    "import time\n",
    "import openpyxl\n",
    "import os"
   ]
  },
  {
   "cell_type": "code",
   "execution_count": 2,
   "metadata": {},
   "outputs": [],
   "source": [
    "def get_driver(url):\n",
    "    driver = webdriver.Chrome()\n",
    "    driver.get(url)\n",
    "    return driver"
   ]
  },
  {
   "cell_type": "code",
   "execution_count": 3,
   "metadata": {},
   "outputs": [],
   "source": [
    "def get_workbook(file_name):\n",
    "    if os.path.exists(file_name):\n",
    "        workbook = openpyxl.load_workbook(file_name)\n",
    "    else:\n",
    "        workbook = openpyxl.Workbook()\n",
    "        workbook.save(file_name)\n",
    "\n",
    "    return workbook"
   ]
  },
  {
   "cell_type": "code",
   "execution_count": 4,
   "metadata": {},
   "outputs": [],
   "source": [
    "def write_to_excel(driver, last_page, file_name):\n",
    "    workbook = get_workbook(file_name)\n",
    "    sheet = workbook.active\n",
    "    \n",
    "    try:\n",
    "        for i in range(0, last_page):\n",
    "            for j in range(2, 22):\n",
    "                \n",
    "                active_row = i * 20 + j - 1\n",
    "                \n",
    "                players_table = driver.find_element(By.XPATH, \"//*[@id='tblPlayers']/tbody/tr[{}]/td[2]/a\".format(j))\n",
    "                player_url = players_table.get_attribute(\"href\")\n",
    "\n",
    "\n",
    "                sheet.cell(row=active_row, column=1).value = player_url\n",
    "                workbook.save(file_name)\n",
    "\n",
    "            js_code = \"document.getElementsByClassName('paging-box-number-arrow')[2].onclick();\"\n",
    "            driver.execute_script(js_code)\n",
    "            time.sleep(4)\n",
    "    except:\n",
    "        sheet.cell(row=active_row, column=1).value = \"Occured Error\"\n",
    "        workbook.save(file_name)"
   ]
  },
  {
   "cell_type": "code",
   "execution_count": 5,
   "metadata": {},
   "outputs": [],
   "source": [
    "def run():\n",
    "    url = 'https://arsiv.mackolik.com/Players/PlayerValues/Default.aspx#;'\n",
    "\n",
    "    last_page = 3\n",
    "\n",
    "    file_name = \"./data/soccer_players.xlsx\"\n",
    "\n",
    "    driver = get_driver(url)\n",
    "\n",
    "    write_to_excel(driver, last_page, file_name)\n",
    "\n",
    "    driver.close()"
   ]
  },
  {
   "cell_type": "code",
   "execution_count": 6,
   "metadata": {},
   "outputs": [],
   "source": [
    "run()"
   ]
  }
 ],
 "metadata": {
  "kernelspec": {
   "display_name": "Python 3",
   "language": "python",
   "name": "python3"
  },
  "language_info": {
   "codemirror_mode": {
    "name": "ipython",
    "version": 3
   },
   "file_extension": ".py",
   "mimetype": "text/x-python",
   "name": "python",
   "nbconvert_exporter": "python",
   "pygments_lexer": "ipython3",
   "version": "3.8.10"
  }
 },
 "nbformat": 4,
 "nbformat_minor": 2
}
